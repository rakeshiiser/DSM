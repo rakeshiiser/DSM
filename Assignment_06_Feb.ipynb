{
 "cells": [
  {
   "cell_type": "markdown",
   "metadata": {},
   "source": [
    "# Q1. Create a function which will take a list as an argument and return the product of all the numbers after creating a flat list. Use the below-given list as an argument for your function.\n",
    "\n",
    "\n",
    "list1 = [1,2,3,4, [44,55,66, True], False, (34,56,78,89,34), {1,2,3,3,2,1}, {1:34, \"key2\": [55, 67, 78, 89], 4: (45,\n",
    "22, 61, 34)}, [56, 'data science'], 'Machine Learning']\n",
    "\n"
   ]
  },
  {
   "cell_type": "code",
   "execution_count": 1,
   "metadata": {},
   "outputs": [],
   "source": [
    "list1 = [1,2,3,4, [44,55,66, True], False, (34,56,78,89,34), {1,2,3,3,2,1}, {1:34, \"key2\": [55, 67, 78, 89], 4: (45, 22, 61, 34)}, [56, 'data science'], 'Machine Learning']"
   ]
  },
  {
   "cell_type": "code",
   "execution_count": 9,
   "metadata": {},
   "outputs": [
    {
     "name": "stdout",
     "output_type": "stream",
     "text": [
      "[1, 2, 3, 4, 44, 55, 66, 34, 56, 78, 89, 34, 1, 2, 3, 1, 4, 34, 55, 67, 78, 89, 45, 22, 61, 34] The product is 73834139981912240693461450752000\n"
     ]
    }
   ],
   "source": [
    "def prod_list(list1):\n",
    "    list1_flat=[]\n",
    "    for i in list1:\n",
    "        if type(i) is int:\n",
    "            list1_flat.append(i)\n",
    "        elif type(i) is list:\n",
    "            for j in i:\n",
    "                if type(j) is int:\n",
    "                    list1_flat.append(j)\n",
    "        elif type(i) is bool:\n",
    "            pass\n",
    "        elif type(i) is tuple:\n",
    "            for j in i:\n",
    "                if type(j) is int:\n",
    "                    list1_flat.append(j)\n",
    "        elif type(i) is set:\n",
    "            for j in i:\n",
    "                if type(j) is int:\n",
    "                    list1_flat.append(j)\n",
    "        elif type(i) is dict:\n",
    "            for j in i:\n",
    "                if type(j) is int:\n",
    "                    list1_flat.append(j)\n",
    "                #print(j)\n",
    "            for j in i.values():\n",
    "                if type(j) is int:\n",
    "                    list1_flat.append(j)\n",
    "                #print(j)\n",
    "                if type(j) is list:\n",
    "                    for k in j:\n",
    "                        if type(k) is int:\n",
    "                            list1_flat.append(k)\n",
    "                    \n",
    "                    \n",
    "                \n",
    "                if type(j) is tuple:\n",
    "                    for k in j:\n",
    "                        if type(k) is int:\n",
    "                            list1_flat.append(k)\n",
    "            prod=1\n",
    "            for a in list1_flat:\n",
    "                prod=prod*a\n",
    "                \n",
    "                \n",
    "            return print(list1_flat, \"The product is\",prod)\n",
    "                        \n",
    "        \n",
    "        \n",
    "list1 = [1,2,3,4, [44,55,66, True], False, (34,56,78,89,34), {1,2,3,3,2,1}, \n",
    "         {1:34, \"key2\": [55, 67, 78, 89], 4: (45, 22, 61, 34)}, [56, 'data science'], 'Machine Learning']\n",
    "prod_list(list1)"
   ]
  },
  {
   "cell_type": "markdown",
   "metadata": {},
   "source": [
    "# Q2. Write a python program for encrypting a message sent to you by your friend. The logic of encryption should be such that, for a the output should be z. For b, the output should be y. For c, the output should be x respectively. Also, the whitespace should be replaced with a dollar sign. Keep the punctuation marks unchanged.\n",
    "\n",
    "Input Sentence: I want to become a Data Scientist.\n",
    "Encrypt the above input sentence using the program you just created.\n",
    "\n",
    "Note: Convert the given input sentence into lowercase before encrypting. The final output should be\n",
    "lowercase."
   ]
  },
  {
   "cell_type": "code",
   "execution_count": 7,
   "metadata": {},
   "outputs": [
    {
     "name": "stdout",
     "output_type": "stream",
     "text": [
      "The encrypted data is: \n",
      " i$wznt$to$yexome$z$dztz$sxientist\n"
     ]
    }
   ],
   "source": [
    "data_org='I want to become a Data Scientist'\n",
    "\n",
    "data_lower=data_org.lower() # change text to lowercase\n",
    "\n",
    "encrypted=data_lower.replace('a','z').replace('b','y').replace('c','x').replace(' ','$')\n",
    "print(\"The encrypted data is: \\n\",encrypted)"
   ]
  },
  {
   "cell_type": "code",
   "execution_count": null,
   "metadata": {},
   "outputs": [],
   "source": []
  }
 ],
 "metadata": {
  "kernelspec": {
   "display_name": "Python 3",
   "language": "python",
   "name": "python3"
  },
  "language_info": {
   "codemirror_mode": {
    "name": "ipython",
    "version": 3
   },
   "file_extension": ".py",
   "mimetype": "text/x-python",
   "name": "python",
   "nbconvert_exporter": "python",
   "pygments_lexer": "ipython3",
   "version": "3.7.3"
  }
 },
 "nbformat": 4,
 "nbformat_minor": 2
}
