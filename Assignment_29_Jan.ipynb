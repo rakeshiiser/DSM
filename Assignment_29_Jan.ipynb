{
 "cells": [
  {
   "cell_type": "markdown",
   "metadata": {},
   "source": [
    "# 29 Jan Assignment:\n",
    "\n",
    "1: Guido van Rossum developed python.\n",
    "2: Python is a multipurpose language, it supports object-oriented and structured programming.\n",
    "3. Yes, python is case-sensitive\n",
    "4. .py\n",
    "5. Interpreted language.\n",
    "6. Function, loops etc\n",
    "7. #\n",
    "8. !python --version ; python_version()\n",
    "9. Lambda keyword\n",
    "10. Preferred installer program\n",
    "11. print, input, def, format etc\n",
    "12. 79 characters\n",
    "13. Python is a multipurpose easy-to-learn programming language. It can be used in web/app development, machine learning, artificial intelligence, etc.\n",
    "14. It is handled by python memory manager (allocates memory) and the garbage collector (frees space). \n",
    "15. Download anaconda and set the path using command mode (or click on option Add Python to Path, during installation).\n",
    "16. Yes indentation is required\n"
   ]
  }
 ],
 "metadata": {
  "kernelspec": {
   "display_name": "Python 3",
   "language": "python",
   "name": "python3"
  },
  "language_info": {
   "codemirror_mode": {
    "name": "ipython",
    "version": 3
   },
   "file_extension": ".py",
   "mimetype": "text/x-python",
   "name": "python",
   "nbconvert_exporter": "python",
   "pygments_lexer": "ipython3",
   "version": "3.7.3"
  }
 },
 "nbformat": 4,
 "nbformat_minor": 2
}
