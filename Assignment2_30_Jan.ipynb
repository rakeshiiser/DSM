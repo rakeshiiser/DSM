{
 "cells": [
  {
   "cell_type": "code",
   "execution_count": 1,
   "metadata": {},
   "outputs": [],
   "source": [
    "#assignment 2, 30 Jan "
   ]
  },
  {
   "cell_type": "code",
   "execution_count": 6,
   "metadata": {},
   "outputs": [
    {
     "name": "stdout",
     "output_type": "stream",
     "text": [
      "enter gragde:85\n",
      "The grade is B\n"
     ]
    }
   ],
   "source": [
    "#1\n",
    "score=int(input(\"enter the marks scored:\"))\n",
    "if score>90:\n",
    "    print(\"The grade is A\")\n",
    "elif score>80 and score <=90:\n",
    "    print(\"The grade is B\")\n",
    "elif score>=60 and score<=80:\n",
    "    print(\"the grade is C\")\n",
    "elif score <60:\n",
    "    print(\"The grade is D\")\n",
    "    \n",
    "    \n",
    "            "
   ]
  },
  {
   "cell_type": "code",
   "execution_count": 8,
   "metadata": {},
   "outputs": [
    {
     "name": "stdout",
     "output_type": "stream",
     "text": [
      "enter the cost of bike:120000\n",
      "The tax is 15%\n"
     ]
    }
   ],
   "source": [
    "#2\n",
    "cost=int(input(\"enter the cost of bike:\"))\n",
    "if cost>100000:\n",
    "    print(\"The tax is 15%\")\n",
    "elif cost >50000 and cost <=100000:\n",
    "    print(\"The tax is 10%\")\n",
    "elif cost<=50000:\n",
    "    print(\"The tax is 5%\")\n",
    "\n",
    "    "
   ]
  },
  {
   "cell_type": "code",
   "execution_count": 10,
   "metadata": {},
   "outputs": [
    {
     "name": "stdout",
     "output_type": "stream",
     "text": [
      "enter the name of city:Delhi\n",
      "The monument in Delhi is Red Fort\n"
     ]
    }
   ],
   "source": [
    "#3\n",
    "city=input(\"enter the name of city:\")\n",
    "if city=='Delhi':\n",
    "    print(\"The monument in Delhi is Red Fort\")\n",
    "elif city=='Agra':\n",
    "    print(\"Taj Mahal\")\n",
    "elif city=='Jaipur':\n",
    "    print(\"Jal Mahal\")"
   ]
  },
  {
   "cell_type": "code",
   "execution_count": 13,
   "metadata": {},
   "outputs": [
    {
     "name": "stdout",
     "output_type": "stream",
     "text": [
      "enter the no.27\n",
      "The no of times the given no. can be divided by 3 is 1\n"
     ]
    }
   ],
   "source": [
    "#4\n",
    "num=int(input(\"enter the no.\"))\n",
    "count=0\n",
    "while(num>10):\n",
    "    num=num/3\n",
    "    count+=1\n",
    "print(f\"The no of times the given no. can be divided by 3 is {count}\")\n",
    "    \n",
    "    "
   ]
  },
  {
   "cell_type": "code",
   "execution_count": 17,
   "metadata": {},
   "outputs": [
    {
     "name": "stdout",
     "output_type": "stream",
     "text": [
      "1\n",
      "2\n",
      "3\n",
      "4\n",
      "5\n",
      "6\n",
      "7\n",
      "8\n",
      "9\n",
      "10\n"
     ]
    }
   ],
   "source": [
    "#5\n",
    "#while loop : it executes a set of statement as long as a given condition is true\n",
    "#Example print first 10 numbers using while loop\n",
    "n=11\n",
    "i=1\n",
    "while(i<n):\n",
    "    print(i)\n",
    "    i+=1\n",
    "    "
   ]
  },
  {
   "cell_type": "code",
   "execution_count": 18,
   "metadata": {},
   "outputs": [
    {
     "name": "stdout",
     "output_type": "stream",
     "text": [
      "*\n",
      "**\n",
      "***\n",
      "****\n",
      "*****\n"
     ]
    }
   ],
   "source": [
    "#6 Pattern 1\n",
    "for i in range(1,6):\n",
    "    for j in range(i):\n",
    "        print(\"*\",end=\"\")\n",
    "    print()\n",
    "        "
   ]
  },
  {
   "cell_type": "code",
   "execution_count": 20,
   "metadata": {},
   "outputs": [
    {
     "name": "stdout",
     "output_type": "stream",
     "text": [
      "     *\n",
      "    **\n",
      "   ***\n",
      "  ****\n",
      " *****\n"
     ]
    }
   ],
   "source": [
    "#6 Pattern 2\n",
    "m=5\n",
    "for i in range(1,m+1):\n",
    "    k=1\n",
    "    while(k<=m):\n",
    "        print(\" \",end=\"\")\n",
    "        k+=1\n",
    "    for j in range(i):\n",
    "        print(\"*\",end=\"\")\n",
    "    print()\n",
    "    m=m-1"
   ]
  },
  {
   "cell_type": "code",
   "execution_count": 21,
   "metadata": {},
   "outputs": [
    {
     "name": "stdout",
     "output_type": "stream",
     "text": [
      "      *      \n",
      "     ***     \n",
      "    *****    \n",
      "   *******   \n",
      "  *********  \n",
      " *********** \n"
     ]
    }
   ],
   "source": [
    "#6 Pattern 3\n",
    "m=6\n",
    "n=1\n",
    "for i in range(1,m+1):\n",
    "    k=1\n",
    "    while(k<=m):\n",
    "        print(\" \",end=\"\")\n",
    "        k+=1\n",
    "    \n",
    "    l=1\n",
    "    while(l<=n):\n",
    "        print(\"*\",end=\"\")\n",
    "        l=l+1\n",
    "    k=1\n",
    "    while(k<=m):\n",
    "        print(\" \",end=\"\")\n",
    "        k+=1\n",
    "    \n",
    "    print()\n",
    "    m=m-1\n",
    "    n=n+2\n"
   ]
  },
  {
   "cell_type": "code",
   "execution_count": 23,
   "metadata": {},
   "outputs": [
    {
     "name": "stdout",
     "output_type": "stream",
     "text": [
      "10\n",
      "9\n",
      "8\n",
      "7\n",
      "6\n",
      "5\n",
      "4\n",
      "3\n",
      "2\n",
      "1\n"
     ]
    }
   ],
   "source": [
    "#7 \n",
    "n=10\n",
    "i=10\n",
    "while(i>0):\n",
    "    print(i)\n",
    "    i=i-1\n",
    "    "
   ]
  },
  {
   "cell_type": "code",
   "execution_count": 24,
   "metadata": {},
   "outputs": [
    {
     "name": "stdout",
     "output_type": "stream",
     "text": [
      "1\n",
      "2\n",
      "3\n",
      "4\n",
      "5\n",
      "6\n",
      "7\n",
      "8\n",
      "9\n",
      "10\n"
     ]
    }
   ],
   "source": [
    "#8\n",
    "n=11\n",
    "i=1\n",
    "while(i<n):\n",
    "    print(i)\n",
    "    i=i+1"
   ]
  },
  {
   "cell_type": "code",
   "execution_count": null,
   "metadata": {},
   "outputs": [],
   "source": []
  }
 ],
 "metadata": {
  "kernelspec": {
   "display_name": "Python 3",
   "language": "python",
   "name": "python3"
  },
  "language_info": {
   "codemirror_mode": {
    "name": "ipython",
    "version": 3
   },
   "file_extension": ".py",
   "mimetype": "text/x-python",
   "name": "python",
   "nbconvert_exporter": "python",
   "pygments_lexer": "ipython3",
   "version": "3.7.3"
  }
 },
 "nbformat": 4,
 "nbformat_minor": 2
}
