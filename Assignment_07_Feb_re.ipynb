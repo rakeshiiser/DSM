{
 "cells": [
  {
   "cell_type": "markdown",
   "metadata": {},
   "source": [
    "# Assignment 07 Feb\n",
    "# Q1. You are writing code for a Company. The requirement of the company is that you create a python function that will check whether the password entered by the user is correct or not. The function should take the password as input and return the string “Valid Password” if the entered password follows the below-given password guidelines else it should return “Invalid Password”.\n",
    "\n",
    "\n",
    "Note: 1. The Password should contain at least two uppercase letters and at least two lowercase letters.\n",
    "\n",
    "2. The Password should contain at least a number and three special characters.\n",
    "\n",
    "3. The length of the password should be 10 characters long."
   ]
  },
  {
   "cell_type": "code",
   "execution_count": 3,
   "metadata": {},
   "outputs": [
    {
     "name": "stdout",
     "output_type": "stream",
     "text": [
      "The list of special characters is: \n",
      " ['*', '@', '$', '%', '_', ':', '.', '/', '^', '~', '>', '#', '(', ')', '<']\n",
      "enter the password it must contain min 2 upper case,min 2 lower case, atleast 1 digit and 3 special character: \n",
      "rakesh123\n",
      "invalid\n"
     ]
    }
   ],
   "source": [
    "special = ['*', '@', '$', '%', '_', ':',  '.', '/', '^', '~', '>', '#', '(', ')', '<']\n",
    "#s='RAke/#$123'\n",
    "print(\"The list of special characters is: \\n\",special)\n",
    "\n",
    "s=input(\"enter the password it must contain min 2 upper case,\\\n",
    "min 2 lower case, atleast 1 digit and 3 special character: \\n\")\n",
    "\n",
    "maxlen=len(s)\n",
    "u=0\n",
    "l=0\n",
    "sp=0\n",
    "dig=0\n",
    "for i in s:\n",
    "    if i.isupper():\n",
    "        u=u+1\n",
    "    if i.islower():\n",
    "        l=l+1\n",
    "    if i in special:\n",
    "        sp=sp+1\n",
    "    \n",
    "    if i.isdigit():\n",
    "        dig=dig+1\n",
    "        \n",
    "#print(u,l,sp,dig)\n",
    "if u>=2 and l>=2 and dig>=1 and sp>=3 and maxlen==10:\n",
    "    print(\"valid\")\n",
    "else:\n",
    "    print(\"invalid\")\n"
   ]
  },
  {
   "cell_type": "markdown",
   "metadata": {},
   "source": [
    "# Q2. Solve the below-given questions using at least one of the following: \n",
    "\n",
    "1. Lambda function\n",
    "2. Filter function\n",
    "3. Map function\n",
    "4. List Comprehension\n",
    "\n",
    "Check if the string starts with a particular letter\n",
    "Check if the string is numeric\n",
    "Sort a list of tuples having fruit names and their quantity.\n",
    "[(\"mango\",99),(\"orange\",80), (\"grapes\", 1000)-\n",
    "Find the squares of numbers from 1 to 10\n",
    "Find the cube root of numbers from 1 to 10\n",
    "Check if a given number is even\n",
    "Filter odd numbers from the given list.\n",
    "[1,2,3,4,5,6,7,8,9,10-\n",
    " \n",
    " Sort a list of integers into positive and negative integers lists.\n",
    "\n",
    " [1,2,3,4,5,6,-1,-2,-3,-4,-5,0]"
   ]
  },
  {
   "cell_type": "code",
   "execution_count": 112,
   "metadata": {},
   "outputs": [
    {
     "name": "stdout",
     "output_type": "stream",
     "text": [
      "the list of words starting with R ['Rakesh']\n",
      "\n",
      "the list of numeric strings ['1234']\n",
      "\n",
      "The sorted tuple is by number [('orange', 80), ('mango', 99), ('grapes', 1000)]\n",
      "\n",
      "The list of squares using map function: [1, 4, 9, 16, 25, 36, 49, 64, 81, 100]\n",
      "\n",
      "The list of cube root using map function: [1.0, 1.2599210498948732, 1.4422495703074083, 1.5874010519681994, 1.7099759466766968, 1.8171205928321397, 1.912931182772389, 2.0, 2.080083823051904, 2.154434690031884]\n",
      "\n",
      "The list of even nos. using list comprehension: [0, 2, 4, 6, 8, 10]\n",
      "\n",
      "The list of odd nos using filter function is: [1, 3, 5, 7, 9]\n",
      "\n",
      "The list of positive and negative no.s: [0, 1, 2, 3, 4, 5, 6] [-5, -4, -3, -2, -1]\n",
      "\n"
     ]
    }
   ],
   "source": [
    "#Check if the string starts with a particular letter\n",
    "s=['Rakesh','Akash']\n",
    "letter='R'\n",
    "out = [i for i in s if i[0].lower() == letter.lower()]\n",
    "print(\"the list of words starting with R\",out)\n",
    "print()\n",
    "\n",
    "# Check if the string is numeric\n",
    "s=['1Rakesh','Akash','1234']\n",
    "letter='R'\n",
    "out = [i for i in s if i.isdigit()]\n",
    "print(\"the list of numeric strings\",out)\n",
    "print()\n",
    "\n",
    "# Sort a list of tuples having fruit names and their quantity\n",
    "tup1=[(\"mango\",99),(\"orange\",80), (\"grapes\", 1000)]\n",
    "tup1.sort(key=lambda x:x[1])\n",
    "print(\"The sorted tuple is by number\",tup1)\n",
    "print()\n",
    "\n",
    "\n",
    "#list of squares from digit 1 to 10\n",
    "l1=[1,2,3,4,5,6,7,8,9,10]\n",
    "z=list(map(lambda x:x**2,l1))\n",
    "print(\"The list of squares using map function:\",z)\n",
    "print()\n",
    "\n",
    "#Find the cube root of numbers from 1 to 10\n",
    "l2=[1,2,3,4,5,6,7,8,9,10]\n",
    "z1=list(map(lambda x:x**(1/3),l2))\n",
    "print(\"The list of cube root using map function:\",z1)\n",
    "print()\n",
    "\n",
    "#check if a given no is even:\n",
    "even_nums = [x for x in range(11) if x%2 == 0]\n",
    "print(\"The list of even nos. using list comprehension:\",even_nums)\n",
    "print()\n",
    "\n",
    "#filter odd nos from a list\n",
    "l3=[1,2,3,4,5,6,7,8,9,10]\n",
    "\n",
    "odd_nums=list(filter(lambda x:x%2!=0,l3))\n",
    "print(\"The list of odd nos using filter function is:\",odd_nums)\n",
    "print()\n",
    "\n",
    "#Sort a list of integers into positive and negative integers lists.\n",
    "l4 = [1,2,3,4,5,6,-1,-2,-3,-4,-5,0]\n",
    "l4_sort=l4.sort()\n",
    "l_pos,l_neg=[x for x in l4 if x>=0],[x for x in l4 if x<0]\n",
    "print(\"The list of positive and negative no.s:\", l_pos,l_neg)\n",
    "print()\n",
    "\n"
   ]
  },
  {
   "cell_type": "code",
   "execution_count": null,
   "metadata": {},
   "outputs": [],
   "source": []
  }
 ],
 "metadata": {
  "kernelspec": {
   "display_name": "Python 3",
   "language": "python",
   "name": "python3"
  },
  "language_info": {
   "codemirror_mode": {
    "name": "ipython",
    "version": 3
   },
   "file_extension": ".py",
   "mimetype": "text/x-python",
   "name": "python",
   "nbconvert_exporter": "python",
   "pygments_lexer": "ipython3",
   "version": "3.7.3"
  }
 },
 "nbformat": 4,
 "nbformat_minor": 2
}
