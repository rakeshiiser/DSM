{
 "cells": [
  {
   "cell_type": "markdown",
   "metadata": {},
   "source": [
    "# Q1. Explain Class and Object with respect to Object-Oriented Programming. Give a suitable example.\n",
    "#Ans1: Everything in python is an object, which has respective properties and method. Class is like an object constructor or blueprint for creating an object."
   ]
  },
  {
   "cell_type": "code",
   "execution_count": 9,
   "metadata": {},
   "outputs": [
    {
     "name": "stdout",
     "output_type": "stream",
     "text": [
      "25\n"
     ]
    }
   ],
   "source": [
    "#example\n",
    "class Test1():\n",
    "    var1=25\n",
    "\n",
    "obj1=Test1() # object of class Test1\n",
    "obj1\n",
    "print(obj1.var1)"
   ]
  },
  {
   "cell_type": "markdown",
   "metadata": {},
   "source": [
    "# Q2. Name the four pillars of OOPs.\n",
    "Ans: Inheritance, Polymorphism, Encapsulation and Abstraction"
   ]
  },
  {
   "cell_type": "code",
   "execution_count": null,
   "metadata": {},
   "outputs": [],
   "source": []
  },
  {
   "cell_type": "markdown",
   "metadata": {},
   "source": [
    "# Q3. Explain why the __init__() function is used. Give a suitable example.\n",
    "Ans: __init__() is a function which is executed when a class is initiated. It is used to assign values to object properties"
   ]
  },
  {
   "cell_type": "code",
   "execution_count": 12,
   "metadata": {},
   "outputs": [
    {
     "name": "stdout",
     "output_type": "stream",
     "text": [
      "The type of vehicle is car\n",
      "The model is fortune\n",
      "The no of wheels are four\n"
     ]
    }
   ],
   "source": [
    "#Example\n",
    "class Vehicle():\n",
    "    def __init__(self,name,model, wheels):\n",
    "        self.name=name\n",
    "        self.model=model\n",
    "        self.wheels=wheels\n",
    "    def details(self):\n",
    "        print(\"The type of vehicle is\",self.name)\n",
    "        print(\"The model is\",self.model)\n",
    "        print(\"The no of wheels are\",self.wheels)\n",
    "veh1=Vehicle(\"car\",\"fortune\",\"four\")\n",
    "veh1.details()    "
   ]
  },
  {
   "cell_type": "markdown",
   "metadata": {},
   "source": [
    "# Q4. Why self is used in OOPs?\n",
    "#Ans: self binds a function to a respective class."
   ]
  },
  {
   "cell_type": "markdown",
   "metadata": {},
   "source": [
    "# Q5. What is inheritance? Give an example for each type of inheritance.\n",
    "Inheritance is deriving methods and properties from another class."
   ]
  },
  {
   "cell_type": "code",
   "execution_count": 16,
   "metadata": {},
   "outputs": [
    {
     "name": "stdout",
     "output_type": "stream",
     "text": [
      "Collection of raw data\n",
      "analyzes data for different businesses\n"
     ]
    }
   ],
   "source": [
    "#Example of inheritance\n",
    "class data_analyst():\n",
    "    def collect_data(self):\n",
    "        print(\"Collection of raw data\")\n",
    "class bus_analyst(data_analyst):\n",
    "    def analyse_bus(self):\n",
    "        print(\"analyzes data for different businesses\")\n",
    "work1=bus_analyst()\n",
    "work1.collect_data()\n",
    "work1.analyse_bus()\n",
    "    "
   ]
  },
  {
   "cell_type": "code",
   "execution_count": null,
   "metadata": {},
   "outputs": [],
   "source": []
  }
 ],
 "metadata": {
  "kernelspec": {
   "display_name": "Python 3",
   "language": "python",
   "name": "python3"
  },
  "language_info": {
   "codemirror_mode": {
    "name": "ipython",
    "version": 3
   },
   "file_extension": ".py",
   "mimetype": "text/x-python",
   "name": "python",
   "nbconvert_exporter": "python",
   "pygments_lexer": "ipython3",
   "version": "3.7.3"
  }
 },
 "nbformat": 4,
 "nbformat_minor": 2
}
