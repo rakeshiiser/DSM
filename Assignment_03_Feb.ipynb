{
 "cells": [
  {
   "cell_type": "markdown",
   "metadata": {},
   "source": [
    "# Q1. Which keyword is used to create a function? Create a function to return a list of odd numbers in the range of 1 to 25.\n",
    "# Ans: def keyword is used to create a function\n"
   ]
  },
  {
   "cell_type": "code",
   "execution_count": 2,
   "metadata": {},
   "outputs": [
    {
     "name": "stdout",
     "output_type": "stream",
     "text": [
      "[3, 6, 9, 12, 15, 18, 21, 24]\n"
     ]
    }
   ],
   "source": [
    "def odd_list():\n",
    "    a=[]\n",
    "    for i in range(1,25):\n",
    "        if i%3==0:\n",
    "            a.append(i)\n",
    "    print(a)\n",
    "odd_list()"
   ]
  },
  {
   "cell_type": "markdown",
   "metadata": {},
   "source": [
    "# Q2. Why *args and **kwargs is used in some functions? Create a function each for *args and **kwargs to demonstrate their use.\n",
    "*args: in function definition is used to pass arguments(variable number, gives the flexibility of passing any number of arguments) . \n",
    "**kwargs: is also used for the same purpose, but in this case the values are passed in key : value format"
   ]
  },
  {
   "cell_type": "code",
   "execution_count": 28,
   "metadata": {},
   "outputs": [
    {
     "name": "stdout",
     "output_type": "stream",
     "text": [
      "1\n",
      "2\n",
      "3\n",
      "4\n"
     ]
    }
   ],
   "source": [
    "#Example *args\n",
    "def test(*args):\n",
    "    for i in args:\n",
    "        print(i)\n",
    "    \n",
    "\n",
    "test(1,2,3,4)\n"
   ]
  },
  {
   "cell_type": "code",
   "execution_count": 17,
   "metadata": {},
   "outputs": [
    {
     "name": "stdout",
     "output_type": "stream",
     "text": [
      "Subject stats and Topic mean\n",
      "Subject ML and Topic random forest\n",
      "Subject SQL and Topic nested queries\n"
     ]
    }
   ],
   "source": [
    "#example **kwargs\n",
    "def sub_topic(**kwargs):\n",
    "    for x,y in kwargs.items():\n",
    "        print(\"Subject {} and Topic {}\".format(x,y))\n",
    "sub_topic(stats='mean',ML=\"random forest\",SQL='nested queries')\n",
    "        "
   ]
  },
  {
   "cell_type": "markdown",
   "metadata": {},
   "source": [
    "# Q3. What is an iterator in python? Name the method used to initialise the iterator object and the method used for iteration. Use these methods to print the first five elements of the given list [2, 4, 6, 8, 10, 12, 14, 16,18, 20].\n",
    "Ans: Iterator is an object which contains countable number of itmes/values. The object be traversed upon.\n",
    "iter() method: for the initialization of an iterator.\n",
    "next method: returns next value for the iterable"
   ]
  },
  {
   "cell_type": "code",
   "execution_count": 18,
   "metadata": {},
   "outputs": [
    {
     "name": "stdout",
     "output_type": "stream",
     "text": [
      "2\n",
      "4\n",
      "6\n",
      "8\n",
      "10\n"
     ]
    }
   ],
   "source": [
    "l= [2, 4, 6, 8, 10, 12, 14, 16,18, 20]\n",
    "iteratot=iter(l)\n",
    "for i in range(5):\n",
    "    print(next(iteratot))"
   ]
  },
  {
   "cell_type": "markdown",
   "metadata": {},
   "source": [
    "# Q4. What is a generator function in python? Why yield keyword is used? Give an example of a generator function.\n",
    "Ans: Generator function returns an iterator that generates a sequence of values when iterated upon.\n",
    "\n",
    "yield keyword is used in function instead of return in function to make it a generator function."
   ]
  },
  {
   "cell_type": "code",
   "execution_count": 21,
   "metadata": {},
   "outputs": [
    {
     "name": "stdout",
     "output_type": "stream",
     "text": [
      "first item\n",
      "second item\n"
     ]
    },
    {
     "data": {
      "text/plain": [
       "2"
      ]
     },
     "execution_count": 21,
     "metadata": {},
     "output_type": "execute_result"
    }
   ],
   "source": [
    "#Q4 Example of generator function\n",
    "def test_gen():\n",
    "    print(\"first item\")\n",
    "    yield 1\n",
    "    print(\"second item\")\n",
    "    yield 2\n",
    "    print(\"third item\")\n",
    "    yield 3\n",
    "gen=test_gen()\n",
    "next(gen)\n",
    "next(gen)"
   ]
  },
  {
   "cell_type": "code",
   "execution_count": 22,
   "metadata": {},
   "outputs": [
    {
     "name": "stdout",
     "output_type": "stream",
     "text": [
      "first item\n",
      "1\n",
      "second item\n",
      "2\n",
      "third item\n",
      "3\n"
     ]
    }
   ],
   "source": [
    "for val in test_gen():\n",
    "    print(val)"
   ]
  },
  {
   "cell_type": "markdown",
   "metadata": {},
   "source": [
    "# Q5. Create a generator function for prime numbers less than 1000. Use the next() method to print the first 20 prime numbers"
   ]
  },
  {
   "cell_type": "code",
   "execution_count": 25,
   "metadata": {},
   "outputs": [
    {
     "name": "stdout",
     "output_type": "stream",
     "text": [
      "2\n",
      "3\n",
      "5\n",
      "7\n",
      "11\n",
      "13\n",
      "17\n",
      "19\n",
      "23\n",
      "29\n",
      "31\n",
      "37\n",
      "41\n",
      "43\n",
      "47\n",
      "53\n",
      "59\n",
      "61\n",
      "67\n",
      "71\n"
     ]
    }
   ],
   "source": [
    "def prime_gen():\n",
    "    for num in range(2, 1000):\n",
    "        for i in range(2, num):\n",
    "            if num % i == 0:\n",
    "                break\n",
    "        else:\n",
    "            yield num\n",
    "\n",
    "\n",
    "my_gen = prime_gen()\n",
    "for i in range(20):\n",
    "    print(next(my_gen))"
   ]
  },
  {
   "cell_type": "code",
   "execution_count": null,
   "metadata": {},
   "outputs": [],
   "source": []
  }
 ],
 "metadata": {
  "kernelspec": {
   "display_name": "Python 3",
   "language": "python",
   "name": "python3"
  },
  "language_info": {
   "codemirror_mode": {
    "name": "ipython",
    "version": 3
   },
   "file_extension": ".py",
   "mimetype": "text/x-python",
   "name": "python",
   "nbconvert_exporter": "python",
   "pygments_lexer": "ipython3",
   "version": "3.7.3"
  }
 },
 "nbformat": 4,
 "nbformat_minor": 2
}
